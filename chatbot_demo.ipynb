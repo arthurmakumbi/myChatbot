{
 "cells": [
  {
   "cell_type": "markdown",
   "id": "d616fa15",
   "metadata": {},
   "source": [
    "# Simple Chatbot in Jupyter Notebook\n",
    "This notebook demonstrates how to build a basic chatbot using Python. let's see how to interact with it "
   ]
  },
  {
   "cell_type": "markdown",
   "id": "32f3c14b",
   "metadata": {},
   "source": [
    "## 1. Install and Import Required Libraries\n",
    "We'll use standard Python libraries for this simple chatbot. to enhance it later, I will install additional packages."
   ]
  },
  {
   "cell_type": "code",
   "execution_count": 1,
   "id": "66db2827",
   "metadata": {},
   "outputs": [],
   "source": [
    "# Import required libraries\n",
    "from IPython.display import display, Markdown"
   ]
  },
  {
   "cell_type": "markdown",
   "id": "8dbe35f8",
   "metadata": {},
   "source": [
    "## 2. Define Chatbot Logic\n",
    "Let's create a simple chatbot class that responds to greetings and questions."
   ]
  },
  {
   "cell_type": "code",
   "execution_count": 17,
   "id": "85c5e944",
   "metadata": {},
   "outputs": [],
   "source": [
    "class MySimpleChatbot:\n",
    "    def __init__(self):\n",
    "        self.responses = {\n",
    "            'hello': 'Hello! How can I help you today?',\n",
    "            'wassup': 'Not much, just chatting with you!',\n",
    "            'hi': 'Hi there! What can I do for you?',\n",
    "            'how are you': \"I'm a bot, but I'm doing great!\",\n",
    "            'bye': 'Goodbye! Have a nice day!',\n",
    "            'what is your name': 'I am a simple chatbot created by makumbi for demonstration purposes.',\n",
    "            'can you help me': 'Of course! What do you need help with?',\n",
    "            'thank you': \"You're welcome!\",\n",
    "            'thanks': \"No problem!\",\n",
    "            'what can you do': 'I can chat with you and answer simple questions.',\n",
    "            'tell me a joke': 'Why did the scarecrow win an award? Because he was outstanding in his field!',\n",
    "            'what is the meaning of life': '42, according to The Hitchhiker\\'s Guide to the Galaxy.',\n",
    "            'what is python': 'Python is a popular programming language known for its readability and versatility.',\n",
    "            'who created you': 'I was created by a makumbi using Python.',\n",
    "            'what is ai': 'AI stands for Artificial Intelligence, which is the simulation of human intelligence in machines.',\n",
    "            'what is machine learning': 'Machine Learning is a subset of AI that focuses on the development of algorithms that allow computers to learn from and make predictions based on data.',\n",
    "            'what is deep learning': 'Deep Learning is a subset of Machine Learning that uses neural networks with many layers to analyze various types of data.'\n",
    "        }\n",
    "    \n",
    "    def get_response(self, user_input):\n",
    "        user_input = user_input.lower().strip()\n",
    "        for key in self.responses:\n",
    "            if key in user_input:\n",
    "                return self.responses[key]\n",
    "        return \"I'm not sure how to respond to that.\""
   ]
  },
  {
   "cell_type": "markdown",
   "id": "860e0de0",
   "metadata": {},
   "source": [
    "## 3. Create Chatbot Interaction Function\n",
    "This function allows me to interact with the chatbot in the notebook."
   ]
  },
  {
   "cell_type": "code",
   "execution_count": 18,
   "id": "675c69b6",
   "metadata": {},
   "outputs": [],
   "source": [
    "def chat_with_bot():\n",
    "    bot = MySimpleChatbot()\n",
    "    print(\"Type 'bye' to end the chat.\")\n",
    "    while True:\n",
    "        user_input = input(\"You: \")\n",
    "        if user_input.lower().strip() == 'bye':\n",
    "            print(\"Bot:\", bot.get_response(user_input))\n",
    "            break\n",
    "        print(\"Bot:\", bot.get_response(user_input))"
   ]
  },
  {
   "cell_type": "markdown",
   "id": "1082081a",
   "metadata": {},
   "source": [
    "## 4. Test Chatbot Responses\n",
    "Let's test the chatbot with some sample inputs."
   ]
  },
  {
   "cell_type": "code",
   "execution_count": 24,
   "id": "e9e6b897",
   "metadata": {},
   "outputs": [
    {
     "name": "stdout",
     "output_type": "stream",
     "text": [
      "You: hi\n",
      "Bot: Hi there! What can I do for you?\n",
      "\n",
      "You: what is ai\n",
      "Bot: AI stands for Artificial Intelligence, which is the simulation of human intelligence in machines.\n",
      "\n",
      "You: what is deep learning\n",
      "Bot: Deep Learning is a subset of Machine Learning that uses neural networks with many layers to analyze various types of data.\n",
      "\n",
      "You: Bye\n",
      "Bot: Goodbye! Have a nice day!\n",
      "\n"
     ]
    }
   ],
   "source": [
    "bot = MySimpleChatbot()\n",
    "# test_inputs = [ \"How are you?\", \"What is your name?\", \"can you help me\", \"what is ai\", \"what is machine learning\", \"Bye\"]\n",
    "test_inputs = [ \"hi\", \"what is ai\", \"what is deep learning\", \"Bye\"]\n",
    "\n",
    "for inp in test_inputs:\n",
    "    print(f\"You: {inp}\")\n",
    "    print(f\"Bot: {bot.get_response(inp)}\\n\")"
   ]
  },
  {
   "cell_type": "code",
   "execution_count": 25,
   "id": "80b4f073",
   "metadata": {},
   "outputs": [
    {
     "name": "stdout",
     "output_type": "stream",
     "text": [
      "this works\n"
     ]
    }
   ],
   "source": [
    "print(\"this works\")"
   ]
  },
  {
   "cell_type": "markdown",
   "id": "fbb5f205",
   "metadata": {},
   "source": []
  }
 ],
 "metadata": {
  "kernelspec": {
   "display_name": "jupyter_env",
   "language": "python",
   "name": "python3"
  },
  "language_info": {
   "codemirror_mode": {
    "name": "ipython",
    "version": 3
   },
   "file_extension": ".py",
   "mimetype": "text/x-python",
   "name": "python",
   "nbconvert_exporter": "python",
   "pygments_lexer": "ipython3",
   "version": "3.13.5"
  }
 },
 "nbformat": 4,
 "nbformat_minor": 5
}
